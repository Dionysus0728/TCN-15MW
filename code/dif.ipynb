{
 "cells": [
  {
   "cell_type": "code",
   "execution_count": null,
   "id": "82a03eda-fe35-4265-984e-fe7563244759",
   "metadata": {},
   "outputs": [],
   "source": [
    "import csv\n",
    "\n",
    "def process_csv(input_file, output_file, num_columns=17):\n",
    "    \"\"\"\n",
    "    Processes a CSV file by computing the difference between each row and its previous row\n",
    "    for the first `num_columns` columns, and writes the result to a new CSV file.\n",
    "\n",
    "    Args:\n",
    "        input_file (str): Path to the input CSV file.\n",
    "        output_file (str): Path to the output CSV file.\n",
    "        num_columns (int): Number of columns to compute differences on.\n",
    "    \"\"\"\n",
    "    try:\n",
    "        # Open the input CSV file for reading\n",
    "        with open(input_file, mode='r', newline='', encoding='utf-8') as infile:\n",
    "            reader = csv.reader(infile)\n",
    "            rows = list(reader)          \n",
    "            header = rows[0]\n",
    "            \n",
    "            # Check if there are enough rows for computation\n",
    "            if len(rows) <= 1:\n",
    "                print(\"Insufficient data: unable to compute differences between adjacent rows.\")\n",
    "                return\n",
    "\n",
    "            # Extend the header with new column names for the differences\n",
    "            new_header = header + [f\"diff_{i+1}\" for i in range(num_columns)]\n",
    "            \n",
    "            # Process each row starting from the second row\n",
    "            for i in range(1, len(rows)):\n",
    "                for j in range(num_columns):  # Only process the first `num_columns` columns\n",
    "                    try:\n",
    "                        # Compute the difference between the current and previous row\n",
    "                        diff = float(rows[i][j]) - float(rows[i-1][j])\n",
    "                    except ValueError:\n",
    "                        diff = None  # If conversion fails, set as None\n",
    "                    rows[i].append(diff)  # Append the computed difference to the current row\n",
    "\n",
    "        # Write the processed data to the output CSV file\n",
    "        with open(output_file, mode='w', newline='', encoding='utf-8') as outfile:\n",
    "            writer = csv.writer(outfile)\n",
    "            writer.writerow(new_header)  # Write the new header\n",
    "            writer.writerows(rows[1:])   # Write the data rows, excluding the original header\n",
    "\n",
    "        print(f\"Processing completed. The result has been saved to {output_file}.\")\n",
    "    \n",
    "    except FileNotFoundError:\n",
    "        print(f\"File {input_file} not found. Please check if the file path is correct.\")\n",
    "    except Exception as e:\n",
    "        print(f\"An error occurred: {e}\")\n",
    "\n",
    "# Run the function with the specified input and output file paths\n",
    "input_file = 'case*.csv'       # Path to the input CSV file\n",
    "output_file = 'case**.csv'     # Path to the output CSV file\n",
    "process_csv(input_file, output_file)\n"
   ]
  },
  {
   "cell_type": "code",
   "execution_count": null,
   "id": "d62fb52a-6da6-411a-ae7c-deefc028a920",
   "metadata": {},
   "outputs": [],
   "source": []
  }
 ],
 "metadata": {
  "kernelspec": {
   "display_name": "Python 3 (ipykernel)",
   "language": "python",
   "name": "python3"
  },
  "language_info": {
   "codemirror_mode": {
    "name": "ipython",
    "version": 3
   },
   "file_extension": ".py",
   "mimetype": "text/x-python",
   "name": "python",
   "nbconvert_exporter": "python",
   "pygments_lexer": "ipython3",
   "version": "3.12.2"
  }
 },
 "nbformat": 4,
 "nbformat_minor": 5
}
